{
 "cells": [
  {
   "cell_type": "code",
   "execution_count": 14,
   "metadata": {
    "collapsed": true,
    "deletable": true,
    "editable": true
   },
   "outputs": [],
   "source": [
    "import pandas as pd\n",
    "import numpy as np\n",
    "import matplotlib\n",
    "%matplotlib inline\n",
    "import matplotlib.pyplot as plt\n",
    "from sklearn import linear_model, decomposition\n",
    "from sklearn.ensemble import RandomForestRegressor\n",
    "from sklearn.pipeline import Pipeline\n",
    "from sklearn.preprocessing import Imputer\n",
    "from sklearn.model_selection import cross_val_score"
   ]
  },
  {
   "cell_type": "code",
   "execution_count": 15,
   "metadata": {
    "collapsed": false,
    "deletable": true,
    "editable": true
   },
   "outputs": [],
   "source": [
    "datafile1 = pd.ExcelFile('data/SDE_DATA_1998.xlsx')"
   ]
  },
  {
   "cell_type": "code",
   "execution_count": 16,
   "metadata": {
    "collapsed": false,
    "deletable": true,
    "editable": true
   },
   "outputs": [],
   "source": [
    "data1998 = datafile1.parse()"
   ]
  },
  {
   "cell_type": "code",
   "execution_count": 17,
   "metadata": {
    "collapsed": false,
    "scrolled": true
   },
   "outputs": [
    {
     "data": {
      "text/html": [
       "<div>\n",
       "<table border=\"1\" class=\"dataframe\">\n",
       "  <thead>\n",
       "    <tr style=\"text-align: right;\">\n",
       "      <th></th>\n",
       "      <th>Country</th>\n",
       "      <th>Region</th>\n",
       "      <th>Sub Region</th>\n",
       "      <th>Road Maintenance</th>\n",
       "      <th>Road Network</th>\n",
       "      <th>Road maintenance per network</th>\n",
       "      <th>Net Energy Imports</th>\n",
       "      <th>Trade as a % of GDP</th>\n",
       "      <th>Access to Electricity</th>\n",
       "      <th>Quality of Electricity Supply</th>\n",
       "      <th>...</th>\n",
       "      <th>FDI inflows</th>\n",
       "      <th>RnD Expenditure as a % of GDP</th>\n",
       "      <th>Payments for IP use</th>\n",
       "      <th>Charges for IP use</th>\n",
       "      <th>Charges for IP use as % GDP</th>\n",
       "      <th>Hi Tech Exports as % of manufactured exports</th>\n",
       "      <th>GDP Growth</th>\n",
       "      <th>GDP Growth per capita</th>\n",
       "      <th>Population</th>\n",
       "      <th>GDP</th>\n",
       "    </tr>\n",
       "  </thead>\n",
       "  <tbody>\n",
       "    <tr>\n",
       "      <th>0</th>\n",
       "      <td>Indicator</td>\n",
       "      <td>Indicator</td>\n",
       "      <td>Indicator</td>\n",
       "      <td>Euro</td>\n",
       "      <td>km</td>\n",
       "      <td>Euro/km</td>\n",
       "      <td>%</td>\n",
       "      <td>%</td>\n",
       "      <td>%</td>\n",
       "      <td>Rank</td>\n",
       "      <td>...</td>\n",
       "      <td>%</td>\n",
       "      <td>%</td>\n",
       "      <td>$ (USD)</td>\n",
       "      <td>$ (USD)</td>\n",
       "      <td>%</td>\n",
       "      <td>%</td>\n",
       "      <td>%</td>\n",
       "      <td>%</td>\n",
       "      <td>#</td>\n",
       "      <td>#</td>\n",
       "    </tr>\n",
       "    <tr>\n",
       "      <th>1</th>\n",
       "      <td>Afghanistan</td>\n",
       "      <td>South Asia</td>\n",
       "      <td>South Asia</td>\n",
       "      <td>NaN</td>\n",
       "      <td>42150</td>\n",
       "      <td>0</td>\n",
       "      <td>NaN</td>\n",
       "      <td>NaN</td>\n",
       "      <td>81.1357</td>\n",
       "      <td>NaN</td>\n",
       "      <td>...</td>\n",
       "      <td>NaN</td>\n",
       "      <td>NaN</td>\n",
       "      <td>NaN</td>\n",
       "      <td>NaN</td>\n",
       "      <td>NaN</td>\n",
       "      <td>NaN</td>\n",
       "      <td>NaN</td>\n",
       "      <td>NaN</td>\n",
       "      <td>18034130</td>\n",
       "      <td>NaN</td>\n",
       "    </tr>\n",
       "    <tr>\n",
       "      <th>2</th>\n",
       "      <td>Albania *</td>\n",
       "      <td>Europe and Central Asia</td>\n",
       "      <td>Balkans</td>\n",
       "      <td>2770395</td>\n",
       "      <td>18000</td>\n",
       "      <td>153.911</td>\n",
       "      <td>16.6227</td>\n",
       "      <td>45.4813</td>\n",
       "      <td>100</td>\n",
       "      <td>NaN</td>\n",
       "      <td>...</td>\n",
       "      <td>NaN</td>\n",
       "      <td>NaN</td>\n",
       "      <td>NaN</td>\n",
       "      <td>NaN</td>\n",
       "      <td>0</td>\n",
       "      <td>0.339874</td>\n",
       "      <td>9.00885</td>\n",
       "      <td>9.69705</td>\n",
       "      <td>3148281</td>\n",
       "      <td>2.70712e+09</td>\n",
       "    </tr>\n",
       "    <tr>\n",
       "      <th>3</th>\n",
       "      <td>Algeria</td>\n",
       "      <td>Middle East and North Africa</td>\n",
       "      <td>North Africa</td>\n",
       "      <td>NaN</td>\n",
       "      <td>113655</td>\n",
       "      <td>0</td>\n",
       "      <td>-410.452</td>\n",
       "      <td>45.0945</td>\n",
       "      <td>34.6157</td>\n",
       "      <td>NaN</td>\n",
       "      <td>...</td>\n",
       "      <td>4.88931</td>\n",
       "      <td>NaN</td>\n",
       "      <td>NaN</td>\n",
       "      <td>NaN</td>\n",
       "      <td>0</td>\n",
       "      <td>1.17094</td>\n",
       "      <td>5.1</td>\n",
       "      <td>3.54391</td>\n",
       "      <td>29887717</td>\n",
       "      <td>4.81877e+10</td>\n",
       "    </tr>\n",
       "  </tbody>\n",
       "</table>\n",
       "<p>4 rows × 31 columns</p>\n",
       "</div>"
      ],
      "text/plain": [
       "       Country                        Region    Sub Region Road Maintenance  \\\n",
       "0    Indicator                     Indicator     Indicator             Euro   \n",
       "1  Afghanistan                    South Asia    South Asia              NaN   \n",
       "2    Albania *       Europe and Central Asia       Balkans          2770395   \n",
       "3      Algeria  Middle East and North Africa  North Africa              NaN   \n",
       "\n",
       "  Road Network Road maintenance per network Net Energy Imports  \\\n",
       "0           km                      Euro/km                  %   \n",
       "1        42150                            0                NaN   \n",
       "2        18000                      153.911            16.6227   \n",
       "3       113655                            0           -410.452   \n",
       "\n",
       "  Trade as a % of GDP Access to Electricity Quality of Electricity Supply  \\\n",
       "0                   %                     %                          Rank   \n",
       "1                 NaN               81.1357                           NaN   \n",
       "2             45.4813                   100                           NaN   \n",
       "3             45.0945               34.6157                           NaN   \n",
       "\n",
       "      ...      FDI inflows   RnD Expenditure as a % of GDP  \\\n",
       "0     ...                 %                              %   \n",
       "1     ...               NaN                            NaN   \n",
       "2     ...               NaN                            NaN   \n",
       "3     ...           4.88931                            NaN   \n",
       "\n",
       "  Payments for IP use Charges for IP use Charges for IP use as % GDP  \\\n",
       "0             $ (USD)            $ (USD)                           %   \n",
       "1                 NaN                NaN                         NaN   \n",
       "2                 NaN                NaN                           0   \n",
       "3                 NaN                NaN                           0   \n",
       "\n",
       "  Hi Tech Exports as % of manufactured exports GDP Growth  \\\n",
       "0                                            %          %   \n",
       "1                                          NaN        NaN   \n",
       "2                                     0.339874    9.00885   \n",
       "3                                      1.17094        5.1   \n",
       "\n",
       "  GDP Growth per capita Population          GDP  \n",
       "0                     %          #            #  \n",
       "1                   NaN   18034130          NaN  \n",
       "2               9.69705    3148281  2.70712e+09  \n",
       "3               3.54391   29887717  4.81877e+10  \n",
       "\n",
       "[4 rows x 31 columns]"
      ]
     },
     "execution_count": 17,
     "metadata": {},
     "output_type": "execute_result"
    }
   ],
   "source": [
    "# show how the data looks like\n",
    "data1998.loc[:3, ]"
   ]
  },
  {
   "cell_type": "code",
   "execution_count": 18,
   "metadata": {
    "collapsed": false
   },
   "outputs": [],
   "source": [
    "# prepare the data\n",
    "\n",
    "label198 = 28  # GDP growth per capita\n",
    "features1998 = [4, 5, 6, 7, 8, 9, 10, 11, 12, 13, 14, 15, 16, 17, 18, 19, 20, 21, 22, 23, 24, 25, 26, 29]\n",
    "\n",
    "imputer = Imputer(axis=1)\n",
    "X_dirty = data1998.values[1:, features1998].astype(float)\n",
    "X = imputer.fit_transform(X_dirty)\n",
    "y_dirty = data1998.values[1:, label198].astype(float)\n",
    "y = imputer.fit_transform(y_dirty.reshape(1, -1)).ravel()"
   ]
  },
  {
   "cell_type": "code",
   "execution_count": 23,
   "metadata": {
    "collapsed": false
   },
   "outputs": [
    {
     "name": "stdout",
     "output_type": "stream",
     "text": [
      "Score after imputation of the missing values = -238986468.63\n"
     ]
    }
   ],
   "source": [
    "# do PCA with a linear regression\n",
    "\n",
    "linear = linear_model.LinearRegression()\n",
    "pca = decomposition.PCA()\n",
    "pipe = Pipeline(steps=[('pca', pca), ('linear', linear)])\n",
    "score = cross_val_score(pipe, X, y).mean()\n",
    "print(\"Score = %.2f\" % score)"
   ]
  },
  {
   "cell_type": "code",
   "execution_count": 20,
   "metadata": {
    "collapsed": false
   },
   "outputs": [
    {
     "name": "stdout",
     "output_type": "stream",
     "text": [
      "Score after imputation of the missing values = -238986468.63\n"
     ]
    }
   ],
   "source": [
    "# do linear regression only \n",
    "estimator = linear_model.LinearRegression()\n",
    "score = cross_val_score(estimator, X, y).mean()\n",
    "print(\"Score = %.2f\" % score)"
   ]
  },
  {
   "cell_type": "code",
   "execution_count": 21,
   "metadata": {
    "collapsed": false
   },
   "outputs": [
    {
     "name": "stdout",
     "output_type": "stream",
     "text": [
      "Score after imputation of the missing values = -0.34\n"
     ]
    }
   ],
   "source": [
    "estimator = RandomForestRegressor()\n",
    "score = cross_val_score(estimator, X, y).mean()\n",
    "print(\"Score = %.2f\" % score)"
   ]
  },
  {
   "cell_type": "code",
   "execution_count": 24,
   "metadata": {
    "collapsed": false
   },
   "outputs": [
    {
     "data": {
      "text/plain": [
       "array([-1.06641055,  0.01798894, -0.56472055])"
      ]
     },
     "execution_count": 24,
     "metadata": {},
     "output_type": "execute_result"
    }
   ],
   "source": [
    "cross_val_score(estimator, X, y)"
   ]
  }
 ],
 "metadata": {
  "kernelspec": {
   "display_name": "Python 3",
   "language": "python",
   "name": "python3"
  },
  "language_info": {
   "codemirror_mode": {
    "name": "ipython",
    "version": 3
   },
   "file_extension": ".py",
   "mimetype": "text/x-python",
   "name": "python",
   "nbconvert_exporter": "python",
   "pygments_lexer": "ipython3",
   "version": "3.6.0"
  }
 },
 "nbformat": 4,
 "nbformat_minor": 2
}
