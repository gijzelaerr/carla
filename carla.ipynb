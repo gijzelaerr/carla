{
 "cells": [
  {
   "cell_type": "code",
   "execution_count": 33,
   "metadata": {
    "collapsed": true,
    "deletable": true,
    "editable": true
   },
   "outputs": [],
   "source": [
    "import pandas as pd\n",
    "import numpy as np\n",
    "import matplotlib\n",
    "%matplotlib inline\n",
    "import matplotlib.pyplot as plt\n",
    "from sklearn import linear_model, decomposition\n",
    "from sklearn.ensemble import RandomForestRegressor\n",
    "from sklearn.pipeline import Pipeline\n",
    "from sklearn.preprocessing import Imputer\n",
    "from sklearn.model_selection import cross_val_score"
   ]
  },
  {
   "cell_type": "code",
   "execution_count": 34,
   "metadata": {
    "collapsed": false,
    "deletable": true,
    "editable": true
   },
   "outputs": [],
   "source": [
    "files = !ls data\n",
    "frames = [pd.ExcelFile(f'data/{i}').parse().ix[1:] for i in files]\n",
    "data = pd.concat(frames)"
   ]
  },
  {
   "cell_type": "code",
   "execution_count": 35,
   "metadata": {
    "collapsed": false,
    "deletable": true,
    "editable": true,
    "scrolled": true
   },
   "outputs": [
    {
     "data": {
      "text/html": [
       "<div>\n",
       "<table border=\"1\" class=\"dataframe\">\n",
       "  <thead>\n",
       "    <tr style=\"text-align: right;\">\n",
       "      <th></th>\n",
       "      <th>Country</th>\n",
       "      <th>Region</th>\n",
       "      <th>Sub Region</th>\n",
       "      <th>Road Maintenance</th>\n",
       "      <th>Road Network</th>\n",
       "      <th>Road maintenance per network</th>\n",
       "      <th>Net Energy Imports</th>\n",
       "      <th>Trade as a % of GDP</th>\n",
       "      <th>Access to Electricity</th>\n",
       "      <th>Quality of Electricity Supply</th>\n",
       "      <th>...</th>\n",
       "      <th>FDI inflows</th>\n",
       "      <th>RnD Expenditure as a % of GDP</th>\n",
       "      <th>Payments for IP use</th>\n",
       "      <th>Charges for IP use</th>\n",
       "      <th>Charges for IP use as % GDP</th>\n",
       "      <th>Hi Tech Exports as % of manufactured exports</th>\n",
       "      <th>GDP Growth</th>\n",
       "      <th>GDP Growth per capita</th>\n",
       "      <th>Population</th>\n",
       "      <th>GDP</th>\n",
       "    </tr>\n",
       "  </thead>\n",
       "  <tbody>\n",
       "    <tr>\n",
       "      <th>1</th>\n",
       "      <td>Afghanistan</td>\n",
       "      <td>South Asia</td>\n",
       "      <td>South Asia</td>\n",
       "      <td>NaN</td>\n",
       "      <td>42150</td>\n",
       "      <td>0</td>\n",
       "      <td>NaN</td>\n",
       "      <td>NaN</td>\n",
       "      <td>81.1357</td>\n",
       "      <td>NaN</td>\n",
       "      <td>...</td>\n",
       "      <td>NaN</td>\n",
       "      <td>NaN</td>\n",
       "      <td>NaN</td>\n",
       "      <td>NaN</td>\n",
       "      <td>NaN</td>\n",
       "      <td>NaN</td>\n",
       "      <td>NaN</td>\n",
       "      <td>NaN</td>\n",
       "      <td>18034130</td>\n",
       "      <td>NaN</td>\n",
       "    </tr>\n",
       "  </tbody>\n",
       "</table>\n",
       "<p>1 rows × 31 columns</p>\n",
       "</div>"
      ],
      "text/plain": [
       "       Country      Region  Sub Region Road Maintenance Road Network  \\\n",
       "1  Afghanistan  South Asia  South Asia              NaN        42150   \n",
       "\n",
       "  Road maintenance per network Net Energy Imports Trade as a % of GDP  \\\n",
       "1                            0                NaN                 NaN   \n",
       "\n",
       "  Access to Electricity Quality of Electricity Supply ...  FDI inflows   \\\n",
       "1               81.1357                           NaN ...           NaN   \n",
       "\n",
       "   RnD Expenditure as a % of GDP Payments for IP use Charges for IP use  \\\n",
       "1                            NaN                 NaN                NaN   \n",
       "\n",
       "  Charges for IP use as % GDP Hi Tech Exports as % of manufactured exports  \\\n",
       "1                         NaN                                          NaN   \n",
       "\n",
       "  GDP Growth GDP Growth per capita Population  GDP  \n",
       "1        NaN                   NaN   18034130  NaN  \n",
       "\n",
       "[1 rows x 31 columns]"
      ]
     },
     "execution_count": 35,
     "metadata": {},
     "output_type": "execute_result"
    }
   ],
   "source": [
    "# show how the data looks like\n",
    "data[:1]"
   ]
  },
  {
   "cell_type": "code",
   "execution_count": 36,
   "metadata": {
    "collapsed": false
   },
   "outputs": [],
   "source": [
    "# only data columns\n",
    "data_no_text = data.drop(['Country', 'Region', 'Sub Region', 'Proximity to conflict '], axis=1)\n"
   ]
  },
  {
   "cell_type": "code",
   "execution_count": 37,
   "metadata": {
    "collapsed": false
   },
   "outputs": [],
   "source": [
    "# remove the rows with a NaN value for GDP\n",
    "data_no_nan_row = data_no_text[pd.notnull(data['GDP'])]"
   ]
  },
  {
   "cell_type": "code",
   "execution_count": 38,
   "metadata": {
    "collapsed": false
   },
   "outputs": [],
   "source": [
    "# Fill NaN values with mean\n",
    "data_full = data_no_nan_row.fillna(data_no_nan_row.mean())"
   ]
  },
  {
   "cell_type": "code",
   "execution_count": 39,
   "metadata": {
    "collapsed": false
   },
   "outputs": [],
   "source": [
    "# Normalise the data\n",
    "df_norm = (data_full - data_full.mean()) / (data_full.max() - data_full.min())"
   ]
  },
  {
   "cell_type": "code",
   "execution_count": 40,
   "metadata": {
    "collapsed": false,
    "scrolled": true
   },
   "outputs": [
    {
     "data": {
      "text/html": [
       "<div>\n",
       "<table border=\"1\" class=\"dataframe\">\n",
       "  <thead>\n",
       "    <tr style=\"text-align: right;\">\n",
       "      <th></th>\n",
       "      <th>Road Maintenance</th>\n",
       "      <th>Road Network</th>\n",
       "      <th>Road maintenance per network</th>\n",
       "      <th>Net Energy Imports</th>\n",
       "      <th>Trade as a % of GDP</th>\n",
       "      <th>Access to Electricity</th>\n",
       "      <th>Quality of Electricity Supply</th>\n",
       "      <th>Employment to Population Ratio</th>\n",
       "      <th>Labor Productivity per Person Employed</th>\n",
       "      <th>Human Development Index</th>\n",
       "      <th>...</th>\n",
       "      <th>FDI inflows</th>\n",
       "      <th>RnD Expenditure as a % of GDP</th>\n",
       "      <th>Payments for IP use</th>\n",
       "      <th>Charges for IP use</th>\n",
       "      <th>Charges for IP use as % GDP</th>\n",
       "      <th>Hi Tech Exports as % of manufactured exports</th>\n",
       "      <th>GDP Growth</th>\n",
       "      <th>GDP Growth per capita</th>\n",
       "      <th>Population</th>\n",
       "      <th>GDP</th>\n",
       "    </tr>\n",
       "  </thead>\n",
       "  <tbody>\n",
       "    <tr>\n",
       "      <th>2</th>\n",
       "      <td>-0.062951</td>\n",
       "      <td>-0.027152</td>\n",
       "      <td>-0.006941</td>\n",
       "      <td>0.027489</td>\n",
       "      <td>-0.081668</td>\n",
       "      <td>0.260117</td>\n",
       "      <td>-1.324477e-14</td>\n",
       "      <td>-0.094036</td>\n",
       "      <td>-0.156948</td>\n",
       "      <td>-0.011923</td>\n",
       "      <td>...</td>\n",
       "      <td>2.856813e-17</td>\n",
       "      <td>1.140136e-15</td>\n",
       "      <td>1.113930e-17</td>\n",
       "      <td>1.082970e-16</td>\n",
       "      <td>-0.009226</td>\n",
       "      <td>-0.129431</td>\n",
       "      <td>0.078597</td>\n",
       "      <td>0.113948</td>\n",
       "      <td>-0.023219</td>\n",
       "      <td>-0.015822</td>\n",
       "    </tr>\n",
       "  </tbody>\n",
       "</table>\n",
       "<p>1 rows × 27 columns</p>\n",
       "</div>"
      ],
      "text/plain": [
       "   Road Maintenance  Road Network  Road maintenance per network  \\\n",
       "2         -0.062951     -0.027152                     -0.006941   \n",
       "\n",
       "   Net Energy Imports  Trade as a % of GDP  Access to Electricity  \\\n",
       "2            0.027489            -0.081668               0.260117   \n",
       "\n",
       "   Quality of Electricity Supply  Employment to Population Ratio  \\\n",
       "2                  -1.324477e-14                       -0.094036   \n",
       "\n",
       "   Labor Productivity per Person Employed  Human Development Index    ...     \\\n",
       "2                               -0.156948                -0.011923    ...      \n",
       "\n",
       "   FDI inflows    RnD Expenditure as a % of GDP  Payments for IP use  \\\n",
       "2  2.856813e-17                    1.140136e-15         1.113930e-17   \n",
       "\n",
       "   Charges for IP use  Charges for IP use as % GDP  \\\n",
       "2        1.082970e-16                    -0.009226   \n",
       "\n",
       "   Hi Tech Exports as % of manufactured exports  GDP Growth  \\\n",
       "2                                     -0.129431    0.078597   \n",
       "\n",
       "   GDP Growth per capita  Population       GDP  \n",
       "2               0.113948   -0.023219 -0.015822  \n",
       "\n",
       "[1 rows x 27 columns]"
      ]
     },
     "execution_count": 40,
     "metadata": {},
     "output_type": "execute_result"
    }
   ],
   "source": [
    "# show how the eventual preprocessed data looks like\n",
    "df_norm[:1]"
   ]
  },
  {
   "cell_type": "code",
   "execution_count": 41,
   "metadata": {
    "collapsed": false
   },
   "outputs": [
    {
     "data": {
      "text/plain": [
       "['Road Maintenance',\n",
       " 'Road Network',\n",
       " 'Road maintenance per network',\n",
       " 'Net Energy Imports',\n",
       " 'Trade as a % of GDP',\n",
       " 'Access to Electricity',\n",
       " 'Quality of Electricity Supply',\n",
       " 'Employment to Population Ratio',\n",
       " 'Labor Productivity per Person Employed',\n",
       " 'Human Development Index',\n",
       " 'Population Growth ',\n",
       " 'Civil Liberty and Political Freedom',\n",
       " 'Youth Unemployment',\n",
       " 'Media Freedom',\n",
       " 'Corruption Perceptions Index ',\n",
       " ' Journal Articles ',\n",
       " 'Journal Articles per capita',\n",
       " 'FDI inflows ',\n",
       " ' RnD Expenditure as a % of GDP',\n",
       " 'Payments for IP use',\n",
       " 'Charges for IP use',\n",
       " 'Charges for IP use as % GDP',\n",
       " 'Hi Tech Exports as % of manufactured exports',\n",
       " 'GDP Growth',\n",
       " 'GDP Growth per capita',\n",
       " 'Population',\n",
       " 'GDP']"
      ]
     },
     "execution_count": 41,
     "metadata": {},
     "output_type": "execute_result"
    }
   ],
   "source": [
    "list(df_norm.columns)"
   ]
  },
  {
   "cell_type": "code",
   "execution_count": 47,
   "metadata": {
    "collapsed": false
   },
   "outputs": [],
   "source": [
    "# split data in train and label\n",
    "X = df_norm.iloc[:,:23].values.astype(float)  # all data\n",
    "X_TLF = df_norm.iloc[:,[15, 16, 17, 18, 19, 20, 22]].values.astype(float)  # TLF\n",
    "X_ESF = df_norm.iloc[:,[2,4,6, 7,8,9]].values.astype(float)  # ESF\n",
    "X_PSF = df_norm.iloc[:,[10, 11, 12, 13, 14]].values.astype(float) # PSF\n",
    "y = df_norm['GDP'].values.astype(float)"
   ]
  },
  {
   "cell_type": "code",
   "execution_count": 48,
   "metadata": {
    "collapsed": false
   },
   "outputs": [
    {
     "name": "stdout",
     "output_type": "stream",
     "text": [
      "X Score = 0.93\n",
      "X_TLF Score = 0.92\n",
      "X_ESF Score = 0.05\n",
      "X_ESF Score = 0.05\n",
      "X_PSF Score = -0.06\n"
     ]
    }
   ],
   "source": [
    "# do Bayesian Ridge\n",
    "estimator = linear_model.BayesianRidge()\n",
    "score = cross_val_score(estimator, X, y).mean()\n",
    "print(\"X Score = %.2f\" % score)\n",
    "score = cross_val_score(estimator, X_TLF, y).mean()\n",
    "print(\"X_TLF Score = %.2f\" % score)\n",
    "score = cross_val_score(estimator, X_ESF, y).mean()\n",
    "print(\"X_ESF Score = %.2f\" % score)\n",
    "score = cross_val_score(estimator, X_ESF, y).mean()\n",
    "print(\"X_ESF Score = %.2f\" % score)\n",
    "score = cross_val_score(estimator, X_PSF, y).mean()\n",
    "print(\"X_PSF Score = %.2f\" % score)"
   ]
  },
  {
   "cell_type": "code",
   "execution_count": 49,
   "metadata": {
    "collapsed": false
   },
   "outputs": [
    {
     "name": "stdout",
     "output_type": "stream",
     "text": [
      "X Score = 0.83\n",
      "X_TLF Score = 0.86\n",
      "X_ESF Score = 0.48\n",
      "X_ESF Score = 0.48\n",
      "X_PSF Score = -0.67\n"
     ]
    }
   ],
   "source": [
    "# do Random forrest, 3-fold cross validation\n",
    "estimator = RandomForestRegressor()\n",
    "score = cross_val_score(estimator, X, y).mean()\n",
    "print(\"X Score = %.2f\" % score)\n",
    "score = cross_val_score(estimator, X_TLF, y).mean()\n",
    "print(\"X_TLF Score = %.2f\" % score)\n",
    "score = cross_val_score(estimator, X_ESF, y).mean()\n",
    "print(\"X_ESF Score = %.2f\" % score)\n",
    "score = cross_val_score(estimator, X_ESF, y).mean()\n",
    "print(\"X_ESF Score = %.2f\" % score)\n",
    "score = cross_val_score(estimator, X_PSF, y).mean()\n",
    "print(\"X_PSF Score = %.2f\" % score)"
   ]
  },
  {
   "cell_type": "code",
   "execution_count": null,
   "metadata": {
    "collapsed": true
   },
   "outputs": [],
   "source": [
    "\n",
    "# do PCA with a linear regression\n",
    "\n",
    "linear = linear_model.LinearRegression()\n",
    "pca = decomposition.PCA()\n",
    "pipe = Pipeline(steps=[('pca', pca), ('linear', linear)])\n",
    "score = cross_val_score(pipe, X, y).mean()\n",
    "print(\"Score = %.2f\" % score)"
   ]
  },
  {
   "cell_type": "code",
   "execution_count": 45,
   "metadata": {
    "collapsed": false
   },
   "outputs": [
    {
     "name": "stderr",
     "output_type": "stream",
     "text": [
      "/Users/gijs/Work/carla/.virtualenv/lib/python3.6/site-packages/sklearn/utils/validation.py:395: DeprecationWarning: Passing 1d arrays as data is deprecated in 0.17 and will raise ValueError in 0.19. Reshape your data either using X.reshape(-1, 1) if your data has a single feature or X.reshape(1, -1) if it contains a single sample.\n",
      "  DeprecationWarning)\n"
     ]
    },
    {
     "data": {
      "text/plain": [
       "(array([-0.04303388]), -0.015161349071091344)"
      ]
     },
     "execution_count": 45,
     "metadata": {},
     "output_type": "execute_result"
    }
   ],
   "source": [
    "# look at this manually\n",
    "estimator = linear_model.BayesianRidge()\n",
    "estimator.fit(X[:928], y[:928])\n",
    "estimator.predict(X[928]), y[928]"
   ]
  }
 ],
 "metadata": {
  "kernelspec": {
   "display_name": "Python 3",
   "language": "python",
   "name": "python3"
  },
  "language_info": {
   "codemirror_mode": {
    "name": "ipython",
    "version": 3
   },
   "file_extension": ".py",
   "mimetype": "text/x-python",
   "name": "python",
   "nbconvert_exporter": "python",
   "pygments_lexer": "ipython3",
   "version": "3.6.0"
  }
 },
 "nbformat": 4,
 "nbformat_minor": 2
}
